{
  "nbformat": 4,
  "nbformat_minor": 0,
  "metadata": {
    "colab": {
      "provenance": [],
      "mount_file_id": "1MeCB45cLkV1GYkAKqR5zn2ll5hRBlBuZ",
      "authorship_tag": "ABX9TyPooWHNMf+mIIJt7ILG+iTY",
      "include_colab_link": true
    },
    "kernelspec": {
      "name": "python3",
      "display_name": "Python 3"
    },
    "language_info": {
      "name": "python"
    }
  },
  "cells": [
    {
      "cell_type": "markdown",
      "metadata": {
        "id": "view-in-github",
        "colab_type": "text"
      },
      "source": [
        "<a href=\"https://colab.research.google.com/github/ChiragBangera/MLspark/blob/main/readWriteHW.ipynb\" target=\"_parent\"><img src=\"https://colab.research.google.com/assets/colab-badge.svg\" alt=\"Open In Colab\"/></a>"
      ]
    },
    {
      "cell_type": "markdown",
      "source": [
        "## Section 1, 2 HW"
      ],
      "metadata": {
        "id": "yHsCUhinwUVZ"
      }
    },
    {
      "cell_type": "code",
      "execution_count": null,
      "metadata": {
        "colab": {
          "base_uri": "https://localhost:8080/"
        },
        "id": "wdQG8vzFm3WM",
        "outputId": "d36be17d-ad0d-41ed-cfbb-7e9fad7fb1f8"
      },
      "outputs": [
        {
          "output_type": "stream",
          "name": "stdout",
          "text": [
            "Collecting pyspark\n",
            "  Downloading pyspark-3.5.1.tar.gz (317.0 MB)\n",
            "\u001b[2K     \u001b[90m━━━━━━━━━━━━━━━━━━━━━━━━━━━━━━━━━━━━━━━━\u001b[0m \u001b[32m317.0/317.0 MB\u001b[0m \u001b[31m1.5 MB/s\u001b[0m eta \u001b[36m0:00:00\u001b[0m\n",
            "\u001b[?25h  Preparing metadata (setup.py) ... \u001b[?25l\u001b[?25hdone\n",
            "Requirement already satisfied: py4j==0.10.9.7 in /usr/local/lib/python3.10/dist-packages (from pyspark) (0.10.9.7)\n",
            "Building wheels for collected packages: pyspark\n",
            "  Building wheel for pyspark (setup.py) ... \u001b[?25l\u001b[?25hdone\n",
            "  Created wheel for pyspark: filename=pyspark-3.5.1-py2.py3-none-any.whl size=317488491 sha256=e0bbb92d0fd7dfcc1af27c15ef2a66f499b65d5575e1760b33ff4a812c798b36\n",
            "  Stored in directory: /root/.cache/pip/wheels/80/1d/60/2c256ed38dddce2fdd93be545214a63e02fbd8d74fb0b7f3a6\n",
            "Successfully built pyspark\n",
            "Installing collected packages: pyspark\n",
            "Successfully installed pyspark-3.5.1\n"
          ]
        }
      ],
      "source": [
        "!pip install pyspark"
      ]
    },
    {
      "cell_type": "code",
      "source": [
        "from pyspark.sql import SparkSession\n",
        "from pyspark.sql.types import *\n",
        "from pyspark.sql import functions as f"
      ],
      "metadata": {
        "id": "b70vIndwm6N7"
      },
      "execution_count": null,
      "outputs": []
    },
    {
      "cell_type": "code",
      "source": [
        "spark = SparkSession.builder.appName('ReadwriteHW').getOrCreate()"
      ],
      "metadata": {
        "id": "QPW6CDfxnmYb"
      },
      "execution_count": null,
      "outputs": []
    },
    {
      "cell_type": "code",
      "source": [
        "pga_schema = StructType([\n",
        "    StructField('Player Name', StringType(),True),\n",
        "    StructField('Season',StringType(),True),\n",
        "    StructField('Statistic',StringType(),True),\n",
        "    StructField('Variable',StringType(),True),\n",
        "    StructField('Value',IntegerType(),True)\n",
        "])"
      ],
      "metadata": {
        "id": "6bJjarQUpPSU"
      },
      "execution_count": null,
      "outputs": []
    },
    {
      "cell_type": "code",
      "source": [
        "path = '/content/drive/MyDrive/spark/datasets/'\n",
        "pga = spark.read.csv(path+'pga_tour_historical.csv',schema=pga_schema, header=True)\n",
        "pga.show()"
      ],
      "metadata": {
        "colab": {
          "base_uri": "https://localhost:8080/"
        },
        "id": "83sy7IKpn97F",
        "outputId": "fb6b71b7-a2d9-45f0-9919-f5f07ea6a7dc"
      },
      "execution_count": null,
      "outputs": [
        {
          "output_type": "stream",
          "name": "stdout",
          "text": [
            "+---------------+------+----------------+--------------------+-----+\n",
            "|    Player Name|Season|       Statistic|            Variable|Value|\n",
            "+---------------+------+----------------+--------------------+-----+\n",
            "|Robert Garrigus|  2010|Driving Distance|Driving Distance ...|   71|\n",
            "|   Bubba Watson|  2010|Driving Distance|Driving Distance ...|   77|\n",
            "| Dustin Johnson|  2010|Driving Distance|Driving Distance ...|   83|\n",
            "|Brett Wetterich|  2010|Driving Distance|Driving Distance ...|   54|\n",
            "|    J.B. Holmes|  2010|Driving Distance|Driving Distance ...|  100|\n",
            "|      John Daly|  2010|Driving Distance|Driving Distance ...|   63|\n",
            "|  Graham DeLaet|  2010|Driving Distance|Driving Distance ...|   88|\n",
            "|  Angel Cabrera|  2010|Driving Distance|Driving Distance ...|   64|\n",
            "| Charles Warren|  2010|Driving Distance|Driving Distance ...|   64|\n",
            "|    D.J. Trahan|  2010|Driving Distance|Driving Distance ...|   92|\n",
            "|  Martin Flores|  2010|Driving Distance|Driving Distance ...|   75|\n",
            "|   Rory McIlroy|  2010|Driving Distance|Driving Distance ...|   54|\n",
            "| Phil Mickelson|  2010|Driving Distance|Driving Distance ...|   76|\n",
            "| Aaron Baddeley|  2010|Driving Distance|Driving Distance ...|   94|\n",
            "|      Jason Day|  2010|Driving Distance|Driving Distance ...|   82|\n",
            "|Charley Hoffman|  2010|Driving Distance|Driving Distance ...|   85|\n",
            "| Davis Love III|  2010|Driving Distance|Driving Distance ...|   79|\n",
            "|   Jeff Overton|  2010|Driving Distance|Driving Distance ...|   89|\n",
            "|   Scott Piercy|  2010|Driving Distance|Driving Distance ...|   88|\n",
            "|   Martin Laird|  2010|Driving Distance|Driving Distance ...|   91|\n",
            "+---------------+------+----------------+--------------------+-----+\n",
            "only showing top 20 rows\n",
            "\n"
          ]
        }
      ]
    },
    {
      "cell_type": "code",
      "source": [
        "pga.show(5)"
      ],
      "metadata": {
        "colab": {
          "base_uri": "https://localhost:8080/"
        },
        "id": "CYJBG-gBodbN",
        "outputId": "fd131057-c066-428a-af08-795c66fb8f4c"
      },
      "execution_count": null,
      "outputs": [
        {
          "output_type": "stream",
          "name": "stdout",
          "text": [
            "+---------------+------+----------------+--------------------+-----+\n",
            "|    Player Name|Season|       Statistic|            Variable|Value|\n",
            "+---------------+------+----------------+--------------------+-----+\n",
            "|Robert Garrigus|  2010|Driving Distance|Driving Distance ...|   71|\n",
            "|   Bubba Watson|  2010|Driving Distance|Driving Distance ...|   77|\n",
            "| Dustin Johnson|  2010|Driving Distance|Driving Distance ...|   83|\n",
            "|Brett Wetterich|  2010|Driving Distance|Driving Distance ...|   54|\n",
            "|    J.B. Holmes|  2010|Driving Distance|Driving Distance ...|  100|\n",
            "+---------------+------+----------------+--------------------+-----+\n",
            "only showing top 5 rows\n",
            "\n"
          ]
        }
      ]
    },
    {
      "cell_type": "code",
      "source": [
        "pga.toPandas()"
      ],
      "metadata": {
        "colab": {
          "base_uri": "https://localhost:8080/",
          "height": 424
        },
        "id": "rXU1zqdXovyc",
        "outputId": "fb74b692-39ca-4280-9e80-0624b452d48f"
      },
      "execution_count": null,
      "outputs": [
        {
          "output_type": "execute_result",
          "data": {
            "text/plain": [
              "             Player Name  Season                Statistic  \\\n",
              "0        Robert Garrigus    2010         Driving Distance   \n",
              "1           Bubba Watson    2010         Driving Distance   \n",
              "2         Dustin Johnson    2010         Driving Distance   \n",
              "3        Brett Wetterich    2010         Driving Distance   \n",
              "4            J.B. Holmes    2010         Driving Distance   \n",
              "...                  ...     ...                      ...   \n",
              "2740398       Ben Martin    2018  Fairway Bunker Tendency   \n",
              "2740399     Robert Streb    2018  Fairway Bunker Tendency   \n",
              "2740400       Andrew Yun    2018  Fairway Bunker Tendency   \n",
              "2740401     Nate Lashley    2018  Fairway Bunker Tendency   \n",
              "2740402    Martin Flores    2018  Fairway Bunker Tendency   \n",
              "\n",
              "                                            Variable   Value  \n",
              "0                        Driving Distance - (ROUNDS)      71  \n",
              "1                        Driving Distance - (ROUNDS)      77  \n",
              "2                        Driving Distance - (ROUNDS)      83  \n",
              "3                        Driving Distance - (ROUNDS)      54  \n",
              "4                        Driving Distance - (ROUNDS)     100  \n",
              "...                                              ...     ...  \n",
              "2740398  Fairway Bunker Tendency - (RELATIVE TO PAR)  +0.209  \n",
              "2740399  Fairway Bunker Tendency - (RELATIVE TO PAR)  +0.239  \n",
              "2740400  Fairway Bunker Tendency - (RELATIVE TO PAR)  +0.225  \n",
              "2740401  Fairway Bunker Tendency - (RELATIVE TO PAR)  +0.143  \n",
              "2740402  Fairway Bunker Tendency - (RELATIVE TO PAR)  +0.181  \n",
              "\n",
              "[2740403 rows x 5 columns]"
            ],
            "text/html": [
              "\n",
              "  <div id=\"df-14cc2a21-9a35-4120-aa80-7ef55e5bd19a\" class=\"colab-df-container\">\n",
              "    <div>\n",
              "<style scoped>\n",
              "    .dataframe tbody tr th:only-of-type {\n",
              "        vertical-align: middle;\n",
              "    }\n",
              "\n",
              "    .dataframe tbody tr th {\n",
              "        vertical-align: top;\n",
              "    }\n",
              "\n",
              "    .dataframe thead th {\n",
              "        text-align: right;\n",
              "    }\n",
              "</style>\n",
              "<table border=\"1\" class=\"dataframe\">\n",
              "  <thead>\n",
              "    <tr style=\"text-align: right;\">\n",
              "      <th></th>\n",
              "      <th>Player Name</th>\n",
              "      <th>Season</th>\n",
              "      <th>Statistic</th>\n",
              "      <th>Variable</th>\n",
              "      <th>Value</th>\n",
              "    </tr>\n",
              "  </thead>\n",
              "  <tbody>\n",
              "    <tr>\n",
              "      <th>0</th>\n",
              "      <td>Robert Garrigus</td>\n",
              "      <td>2010</td>\n",
              "      <td>Driving Distance</td>\n",
              "      <td>Driving Distance - (ROUNDS)</td>\n",
              "      <td>71</td>\n",
              "    </tr>\n",
              "    <tr>\n",
              "      <th>1</th>\n",
              "      <td>Bubba Watson</td>\n",
              "      <td>2010</td>\n",
              "      <td>Driving Distance</td>\n",
              "      <td>Driving Distance - (ROUNDS)</td>\n",
              "      <td>77</td>\n",
              "    </tr>\n",
              "    <tr>\n",
              "      <th>2</th>\n",
              "      <td>Dustin Johnson</td>\n",
              "      <td>2010</td>\n",
              "      <td>Driving Distance</td>\n",
              "      <td>Driving Distance - (ROUNDS)</td>\n",
              "      <td>83</td>\n",
              "    </tr>\n",
              "    <tr>\n",
              "      <th>3</th>\n",
              "      <td>Brett Wetterich</td>\n",
              "      <td>2010</td>\n",
              "      <td>Driving Distance</td>\n",
              "      <td>Driving Distance - (ROUNDS)</td>\n",
              "      <td>54</td>\n",
              "    </tr>\n",
              "    <tr>\n",
              "      <th>4</th>\n",
              "      <td>J.B. Holmes</td>\n",
              "      <td>2010</td>\n",
              "      <td>Driving Distance</td>\n",
              "      <td>Driving Distance - (ROUNDS)</td>\n",
              "      <td>100</td>\n",
              "    </tr>\n",
              "    <tr>\n",
              "      <th>...</th>\n",
              "      <td>...</td>\n",
              "      <td>...</td>\n",
              "      <td>...</td>\n",
              "      <td>...</td>\n",
              "      <td>...</td>\n",
              "    </tr>\n",
              "    <tr>\n",
              "      <th>2740398</th>\n",
              "      <td>Ben Martin</td>\n",
              "      <td>2018</td>\n",
              "      <td>Fairway Bunker Tendency</td>\n",
              "      <td>Fairway Bunker Tendency - (RELATIVE TO PAR)</td>\n",
              "      <td>+0.209</td>\n",
              "    </tr>\n",
              "    <tr>\n",
              "      <th>2740399</th>\n",
              "      <td>Robert Streb</td>\n",
              "      <td>2018</td>\n",
              "      <td>Fairway Bunker Tendency</td>\n",
              "      <td>Fairway Bunker Tendency - (RELATIVE TO PAR)</td>\n",
              "      <td>+0.239</td>\n",
              "    </tr>\n",
              "    <tr>\n",
              "      <th>2740400</th>\n",
              "      <td>Andrew Yun</td>\n",
              "      <td>2018</td>\n",
              "      <td>Fairway Bunker Tendency</td>\n",
              "      <td>Fairway Bunker Tendency - (RELATIVE TO PAR)</td>\n",
              "      <td>+0.225</td>\n",
              "    </tr>\n",
              "    <tr>\n",
              "      <th>2740401</th>\n",
              "      <td>Nate Lashley</td>\n",
              "      <td>2018</td>\n",
              "      <td>Fairway Bunker Tendency</td>\n",
              "      <td>Fairway Bunker Tendency - (RELATIVE TO PAR)</td>\n",
              "      <td>+0.143</td>\n",
              "    </tr>\n",
              "    <tr>\n",
              "      <th>2740402</th>\n",
              "      <td>Martin Flores</td>\n",
              "      <td>2018</td>\n",
              "      <td>Fairway Bunker Tendency</td>\n",
              "      <td>Fairway Bunker Tendency - (RELATIVE TO PAR)</td>\n",
              "      <td>+0.181</td>\n",
              "    </tr>\n",
              "  </tbody>\n",
              "</table>\n",
              "<p>2740403 rows × 5 columns</p>\n",
              "</div>\n",
              "    <div class=\"colab-df-buttons\">\n",
              "\n",
              "  <div class=\"colab-df-container\">\n",
              "    <button class=\"colab-df-convert\" onclick=\"convertToInteractive('df-14cc2a21-9a35-4120-aa80-7ef55e5bd19a')\"\n",
              "            title=\"Convert this dataframe to an interactive table.\"\n",
              "            style=\"display:none;\">\n",
              "\n",
              "  <svg xmlns=\"http://www.w3.org/2000/svg\" height=\"24px\" viewBox=\"0 -960 960 960\">\n",
              "    <path d=\"M120-120v-720h720v720H120Zm60-500h600v-160H180v160Zm220 220h160v-160H400v160Zm0 220h160v-160H400v160ZM180-400h160v-160H180v160Zm440 0h160v-160H620v160ZM180-180h160v-160H180v160Zm440 0h160v-160H620v160Z\"/>\n",
              "  </svg>\n",
              "    </button>\n",
              "\n",
              "  <style>\n",
              "    .colab-df-container {\n",
              "      display:flex;\n",
              "      gap: 12px;\n",
              "    }\n",
              "\n",
              "    .colab-df-convert {\n",
              "      background-color: #E8F0FE;\n",
              "      border: none;\n",
              "      border-radius: 50%;\n",
              "      cursor: pointer;\n",
              "      display: none;\n",
              "      fill: #1967D2;\n",
              "      height: 32px;\n",
              "      padding: 0 0 0 0;\n",
              "      width: 32px;\n",
              "    }\n",
              "\n",
              "    .colab-df-convert:hover {\n",
              "      background-color: #E2EBFA;\n",
              "      box-shadow: 0px 1px 2px rgba(60, 64, 67, 0.3), 0px 1px 3px 1px rgba(60, 64, 67, 0.15);\n",
              "      fill: #174EA6;\n",
              "    }\n",
              "\n",
              "    .colab-df-buttons div {\n",
              "      margin-bottom: 4px;\n",
              "    }\n",
              "\n",
              "    [theme=dark] .colab-df-convert {\n",
              "      background-color: #3B4455;\n",
              "      fill: #D2E3FC;\n",
              "    }\n",
              "\n",
              "    [theme=dark] .colab-df-convert:hover {\n",
              "      background-color: #434B5C;\n",
              "      box-shadow: 0px 1px 3px 1px rgba(0, 0, 0, 0.15);\n",
              "      filter: drop-shadow(0px 1px 2px rgba(0, 0, 0, 0.3));\n",
              "      fill: #FFFFFF;\n",
              "    }\n",
              "  </style>\n",
              "\n",
              "    <script>\n",
              "      const buttonEl =\n",
              "        document.querySelector('#df-14cc2a21-9a35-4120-aa80-7ef55e5bd19a button.colab-df-convert');\n",
              "      buttonEl.style.display =\n",
              "        google.colab.kernel.accessAllowed ? 'block' : 'none';\n",
              "\n",
              "      async function convertToInteractive(key) {\n",
              "        const element = document.querySelector('#df-14cc2a21-9a35-4120-aa80-7ef55e5bd19a');\n",
              "        const dataTable =\n",
              "          await google.colab.kernel.invokeFunction('convertToInteractive',\n",
              "                                                    [key], {});\n",
              "        if (!dataTable) return;\n",
              "\n",
              "        const docLinkHtml = 'Like what you see? Visit the ' +\n",
              "          '<a target=\"_blank\" href=https://colab.research.google.com/notebooks/data_table.ipynb>data table notebook</a>'\n",
              "          + ' to learn more about interactive tables.';\n",
              "        element.innerHTML = '';\n",
              "        dataTable['output_type'] = 'display_data';\n",
              "        await google.colab.output.renderOutput(dataTable, element);\n",
              "        const docLink = document.createElement('div');\n",
              "        docLink.innerHTML = docLinkHtml;\n",
              "        element.appendChild(docLink);\n",
              "      }\n",
              "    </script>\n",
              "  </div>\n",
              "\n",
              "\n",
              "<div id=\"df-5c4aa581-cfcc-43a3-80b0-0dda244f0ebe\">\n",
              "  <button class=\"colab-df-quickchart\" onclick=\"quickchart('df-5c4aa581-cfcc-43a3-80b0-0dda244f0ebe')\"\n",
              "            title=\"Suggest charts\"\n",
              "            style=\"display:none;\">\n",
              "\n",
              "<svg xmlns=\"http://www.w3.org/2000/svg\" height=\"24px\"viewBox=\"0 0 24 24\"\n",
              "     width=\"24px\">\n",
              "    <g>\n",
              "        <path d=\"M19 3H5c-1.1 0-2 .9-2 2v14c0 1.1.9 2 2 2h14c1.1 0 2-.9 2-2V5c0-1.1-.9-2-2-2zM9 17H7v-7h2v7zm4 0h-2V7h2v10zm4 0h-2v-4h2v4z\"/>\n",
              "    </g>\n",
              "</svg>\n",
              "  </button>\n",
              "\n",
              "<style>\n",
              "  .colab-df-quickchart {\n",
              "      --bg-color: #E8F0FE;\n",
              "      --fill-color: #1967D2;\n",
              "      --hover-bg-color: #E2EBFA;\n",
              "      --hover-fill-color: #174EA6;\n",
              "      --disabled-fill-color: #AAA;\n",
              "      --disabled-bg-color: #DDD;\n",
              "  }\n",
              "\n",
              "  [theme=dark] .colab-df-quickchart {\n",
              "      --bg-color: #3B4455;\n",
              "      --fill-color: #D2E3FC;\n",
              "      --hover-bg-color: #434B5C;\n",
              "      --hover-fill-color: #FFFFFF;\n",
              "      --disabled-bg-color: #3B4455;\n",
              "      --disabled-fill-color: #666;\n",
              "  }\n",
              "\n",
              "  .colab-df-quickchart {\n",
              "    background-color: var(--bg-color);\n",
              "    border: none;\n",
              "    border-radius: 50%;\n",
              "    cursor: pointer;\n",
              "    display: none;\n",
              "    fill: var(--fill-color);\n",
              "    height: 32px;\n",
              "    padding: 0;\n",
              "    width: 32px;\n",
              "  }\n",
              "\n",
              "  .colab-df-quickchart:hover {\n",
              "    background-color: var(--hover-bg-color);\n",
              "    box-shadow: 0 1px 2px rgba(60, 64, 67, 0.3), 0 1px 3px 1px rgba(60, 64, 67, 0.15);\n",
              "    fill: var(--button-hover-fill-color);\n",
              "  }\n",
              "\n",
              "  .colab-df-quickchart-complete:disabled,\n",
              "  .colab-df-quickchart-complete:disabled:hover {\n",
              "    background-color: var(--disabled-bg-color);\n",
              "    fill: var(--disabled-fill-color);\n",
              "    box-shadow: none;\n",
              "  }\n",
              "\n",
              "  .colab-df-spinner {\n",
              "    border: 2px solid var(--fill-color);\n",
              "    border-color: transparent;\n",
              "    border-bottom-color: var(--fill-color);\n",
              "    animation:\n",
              "      spin 1s steps(1) infinite;\n",
              "  }\n",
              "\n",
              "  @keyframes spin {\n",
              "    0% {\n",
              "      border-color: transparent;\n",
              "      border-bottom-color: var(--fill-color);\n",
              "      border-left-color: var(--fill-color);\n",
              "    }\n",
              "    20% {\n",
              "      border-color: transparent;\n",
              "      border-left-color: var(--fill-color);\n",
              "      border-top-color: var(--fill-color);\n",
              "    }\n",
              "    30% {\n",
              "      border-color: transparent;\n",
              "      border-left-color: var(--fill-color);\n",
              "      border-top-color: var(--fill-color);\n",
              "      border-right-color: var(--fill-color);\n",
              "    }\n",
              "    40% {\n",
              "      border-color: transparent;\n",
              "      border-right-color: var(--fill-color);\n",
              "      border-top-color: var(--fill-color);\n",
              "    }\n",
              "    60% {\n",
              "      border-color: transparent;\n",
              "      border-right-color: var(--fill-color);\n",
              "    }\n",
              "    80% {\n",
              "      border-color: transparent;\n",
              "      border-right-color: var(--fill-color);\n",
              "      border-bottom-color: var(--fill-color);\n",
              "    }\n",
              "    90% {\n",
              "      border-color: transparent;\n",
              "      border-bottom-color: var(--fill-color);\n",
              "    }\n",
              "  }\n",
              "</style>\n",
              "\n",
              "  <script>\n",
              "    async function quickchart(key) {\n",
              "      const quickchartButtonEl =\n",
              "        document.querySelector('#' + key + ' button');\n",
              "      quickchartButtonEl.disabled = true;  // To prevent multiple clicks.\n",
              "      quickchartButtonEl.classList.add('colab-df-spinner');\n",
              "      try {\n",
              "        const charts = await google.colab.kernel.invokeFunction(\n",
              "            'suggestCharts', [key], {});\n",
              "      } catch (error) {\n",
              "        console.error('Error during call to suggestCharts:', error);\n",
              "      }\n",
              "      quickchartButtonEl.classList.remove('colab-df-spinner');\n",
              "      quickchartButtonEl.classList.add('colab-df-quickchart-complete');\n",
              "    }\n",
              "    (() => {\n",
              "      let quickchartButtonEl =\n",
              "        document.querySelector('#df-5c4aa581-cfcc-43a3-80b0-0dda244f0ebe button');\n",
              "      quickchartButtonEl.style.display =\n",
              "        google.colab.kernel.accessAllowed ? 'block' : 'none';\n",
              "    })();\n",
              "  </script>\n",
              "</div>\n",
              "\n",
              "    </div>\n",
              "  </div>\n"
            ],
            "application/vnd.google.colaboratory.intrinsic+json": {
              "type": "dataframe"
            }
          },
          "metadata": {},
          "execution_count": 9
        }
      ]
    },
    {
      "cell_type": "code",
      "source": [
        "pga.printSchema()"
      ],
      "metadata": {
        "colab": {
          "base_uri": "https://localhost:8080/"
        },
        "id": "iNpbhVVFoym4",
        "outputId": "961c0134-d281-4c3b-92ae-c0b48742e895"
      },
      "execution_count": null,
      "outputs": [
        {
          "output_type": "stream",
          "name": "stdout",
          "text": [
            "root\n",
            " |-- Player Name: string (nullable = true)\n",
            " |-- Season: string (nullable = true)\n",
            " |-- Statistic: string (nullable = true)\n",
            " |-- Variable: string (nullable = true)\n",
            " |-- Value: integer (nullable = true)\n",
            "\n"
          ]
        }
      ]
    },
    {
      "cell_type": "code",
      "source": [
        "pga.select('Value').summary('min','max','mean').show()"
      ],
      "metadata": {
        "colab": {
          "base_uri": "https://localhost:8080/"
        },
        "id": "YWlh9OrOpInJ",
        "outputId": "0fa739f3-696e-43a4-ad78-9280995eb9e5"
      },
      "execution_count": null,
      "outputs": [
        {
          "output_type": "stream",
          "name": "stdout",
          "text": [
            "+-------+------------------+\n",
            "|summary|             Value|\n",
            "+-------+------------------+\n",
            "|    min|              -178|\n",
            "|    max|           3564954|\n",
            "|   mean|12494.388998743096|\n",
            "+-------+------------------+\n",
            "\n"
          ]
        }
      ]
    },
    {
      "cell_type": "code",
      "source": [
        "pga.coalesce(1).write.mode('overwrite').parquet('pga_parquet.parquet')"
      ],
      "metadata": {
        "id": "2E07TV4HqdmF"
      },
      "execution_count": null,
      "outputs": []
    },
    {
      "cell_type": "code",
      "source": [
        "pga.select('Season').distinct().count()"
      ],
      "metadata": {
        "colab": {
          "base_uri": "https://localhost:8080/"
        },
        "id": "T1ySJ6J2rFfn",
        "outputId": "38780f71-0363-4bb2-f088-d4734d9bbd28"
      },
      "execution_count": null,
      "outputs": [
        {
          "output_type": "execute_result",
          "data": {
            "text/plain": [
              "9"
            ]
          },
          "metadata": {},
          "execution_count": 24
        }
      ]
    },
    {
      "cell_type": "code",
      "source": [
        "pga.write.mode('overwrite').partitionBy('Season').parquet('pga_parquet_partition.parquet')"
      ],
      "metadata": {
        "id": "LKnqSslDrYjg"
      },
      "execution_count": null,
      "outputs": []
    },
    {
      "cell_type": "code",
      "source": [
        "parquet_path = '/content/pga_parquet_partition.parquet'\n",
        "\n",
        "pga_df = spark.read.parquet(parquet_path)"
      ],
      "metadata": {
        "id": "5XEI73PNscSu"
      },
      "execution_count": null,
      "outputs": []
    },
    {
      "cell_type": "code",
      "source": [
        "pga_df.orderBy('Season').show()"
      ],
      "metadata": {
        "colab": {
          "base_uri": "https://localhost:8080/"
        },
        "id": "PK_Sx3jrtq_t",
        "outputId": "0ecd5ef2-28f1-406f-f0e1-fbbd0e983bae"
      },
      "execution_count": null,
      "outputs": [
        {
          "output_type": "stream",
          "name": "stdout",
          "text": [
            "+---------------+----------------+--------------------+-----+------+\n",
            "|    Player Name|       Statistic|            Variable|Value|Season|\n",
            "+---------------+----------------+--------------------+-----+------+\n",
            "|Robert Garrigus|Driving Distance|Driving Distance ...|   71|  2010|\n",
            "|    Nick Watney|Driving Distance|Driving Distance ...|   91|  2010|\n",
            "|   Bubba Watson|Driving Distance|Driving Distance ...|   77|  2010|\n",
            "| Dustin Johnson|Driving Distance|Driving Distance ...|   83|  2010|\n",
            "|Brett Wetterich|Driving Distance|Driving Distance ...|   54|  2010|\n",
            "|    J.B. Holmes|Driving Distance|Driving Distance ...|  100|  2010|\n",
            "|      John Daly|Driving Distance|Driving Distance ...|   63|  2010|\n",
            "|  Graham DeLaet|Driving Distance|Driving Distance ...|   88|  2010|\n",
            "|  Angel Cabrera|Driving Distance|Driving Distance ...|   64|  2010|\n",
            "| Charles Warren|Driving Distance|Driving Distance ...|   64|  2010|\n",
            "|    D.J. Trahan|Driving Distance|Driving Distance ...|   92|  2010|\n",
            "|  Martin Flores|Driving Distance|Driving Distance ...|   75|  2010|\n",
            "|   Rory McIlroy|Driving Distance|Driving Distance ...|   54|  2010|\n",
            "| Phil Mickelson|Driving Distance|Driving Distance ...|   76|  2010|\n",
            "| Aaron Baddeley|Driving Distance|Driving Distance ...|   94|  2010|\n",
            "|      Jason Day|Driving Distance|Driving Distance ...|   82|  2010|\n",
            "|Charley Hoffman|Driving Distance|Driving Distance ...|   85|  2010|\n",
            "| Davis Love III|Driving Distance|Driving Distance ...|   79|  2010|\n",
            "|   Jeff Overton|Driving Distance|Driving Distance ...|   89|  2010|\n",
            "|   Scott Piercy|Driving Distance|Driving Distance ...|   88|  2010|\n",
            "+---------------+----------------+--------------------+-----+------+\n",
            "only showing top 20 rows\n",
            "\n"
          ]
        }
      ]
    },
    {
      "cell_type": "code",
      "source": [],
      "metadata": {
        "id": "VZ52MnPatuoI"
      },
      "execution_count": null,
      "outputs": []
    }
  ]
}